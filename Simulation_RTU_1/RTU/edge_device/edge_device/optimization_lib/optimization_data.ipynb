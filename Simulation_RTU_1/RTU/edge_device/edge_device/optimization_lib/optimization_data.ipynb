{
 "cells": [
  {
   "cell_type": "code",
   "execution_count": 1,
   "metadata": {},
   "outputs": [],
   "source": [
    "import sys\n",
    "sys.path.insert(0,\"../\")\n",
    "import  csv\n",
    "import numpy\n",
    "sys.path.insert(0,\"../../ElectricityAndSolar/generated_data/\")\n",
    "import optimization_lib.full_optimisation as opt\n",
    "\n"
   ]
  },
  {
   "cell_type": "code",
   "execution_count": 2,
   "metadata": {},
   "outputs": [],
   "source": [
    "load1=[]\n",
    "load2=[]\n",
    "load3=[]\n",
    "load4=[]\n",
    "load5=[]\n",
    "load6=[]\n",
    "load7=[]\n",
    "with open('../ElectricityAndSolar/data_houses.csv',newline='') as csvfile:\n",
    "    data_read = list(csv.reader(csvfile,delimiter=',',quotechar='|'))\n",
    "    #print(data[0])\n",
    "    for row in data_read[1:]:\n",
    "        #print(row[0])\n",
    "        load1.append(eval(row[0]))\n",
    "        load2.append(eval(row[1]))\n",
    "        load3.append(eval(row[2]))\n",
    "        load4.append(eval(row[3]))\n",
    "        load5.append(eval(row[4]))\n",
    "        load6.append(eval(row[5]))\n",
    "        load7.append(eval(row[6]))\n",
    "\n",
    "\n",
    "\n",
    "solar1=[]\n",
    "solar2=[]\n",
    "solar3=[]\n",
    "solar4=[]\n",
    "solar5=[]\n",
    "solar6=[]\n",
    "solar7=[] \n",
    "with open('../ElectricityAndSolar/solar_Data.csv',newline='') as csvfile:\n",
    "    data_read = list(csv.reader(csvfile,delimiter=',',quotechar='|'))\n",
    "    #print(data[0])\n",
    "    for row in data_read[1:]:\n",
    "        #print(row[0])\n",
    "        solar1.append(eval(row[0]))\n",
    "        solar2.append(eval(row[1]))\n",
    "        solar3.append(eval(row[2]))\n",
    "        solar4.append(eval(row[3]))\n",
    "        solar5.append(eval(row[4]))\n",
    "        solar6.append(eval(row[5]))\n",
    "        solar7.append(eval(row[6]))\n",
    "        #load4.append(eval(row[3]))"
   ]
  },
  {
   "cell_type": "code",
   "execution_count": 3,
   "metadata": {},
   "outputs": [
    {
     "name": "stdout",
     "output_type": "stream",
     "text": [
      "539\n"
     ]
    }
   ],
   "source": [
    "#create touple groups \n",
    "from collections import namedtuple\n",
    "solar_load = namedtuple(\"solar_load\",\"solar load\")\n",
    "data_list=[]\n",
    "\n",
    "for x in [load1,load2,load3,load4,load5,load6,load7]:\n",
    "    for y in [solar1,solar2,solar3,solar4,solar5,solar6,solar7]:\n",
    "        data_list.append(solar_load(y,x))\n",
    "\n",
    "len_data = len(data_list)\n",
    "train_set_len = int(0.75*len_data) \n",
    "\n",
    "import random\n",
    "train_list  = random.sample(range(len(data_list)),train_set_len)\n",
    "test_list = []\n",
    "\n",
    "for i in range(len_data):\n",
    "    if i in train_list:\n",
    "        pass\n",
    "    else:\n",
    "        test_list.append(i)\n",
    "\n",
    "systems = []\n",
    "systems_test = []\n",
    "\n",
    "battery_powers = [0,500,1000,1500,2000,2500,3000,3500,4000,4500,5000]\n",
    "for battery_power in battery_powers:\n",
    "    for i in range(len(data_list)):\n",
    "            \n",
    "            system = opt.optimalSystemDescription(data_list[i].solar,data_list[i].load,batt_power=battery_power,batt_storage=battery_power,load_pct=40,solar_pct=40)\n",
    "            system.cost = [0 for j in range(96)]\n",
    "            system.enableBatteryExchangeLimit()\n",
    "            systems.append(system)\n",
    "            \n",
    "\n",
    "    #for i in test_list:\n",
    "            #system = opt.optimalSystemDescription(data_list[i].solar,data_list[i].load,batt_power=battery_power,batt_storage=battery_power,load_pct=40,solar_pct=40)\n",
    "            #system.cost = [0 for i in range(96)]\n",
    "            #system.enableBatteryExchangeLimit()\n",
    "            #systems_test.append(system)\n",
    "\n",
    "print(len(systems))"
   ]
  },
  {
   "cell_type": "code",
   "execution_count": 4,
   "metadata": {},
   "outputs": [
    {
     "name": "stderr",
     "output_type": "stream",
     "text": [
      "C:\\Users\\chitt\\AppData\\Local\\Packages\\PythonSoftwareFoundation.Python.3.12_qbz5n2kfra8p0\\LocalCache\\local-packages\\Python312\\site-packages\\cvxpy\\reductions\\solvers\\solving_chain.py:336: FutureWarning: \n",
      "    Your problem is being solved with the ECOS solver by default. Starting in \n",
      "    CVXPY 1.5.0, Clarabel will be used as the default solver instead. To continue \n",
      "    using ECOS, specify the ECOS solver explicitly using the ``solver=cp.ECOS`` \n",
      "    argument to the ``problem.solve`` method.\n",
      "    \n",
      "  warnings.warn(ECOS_DEPRECATION_MSG, FutureWarning)\n"
     ]
    },
    {
     "name": "stdout",
     "output_type": "stream",
     "text": [
      "optimization  0 1\n",
      "not opt\n",
      "optimization  0 2\n",
      "optimization  0 3\n",
      "not opt\n",
      "optimization  0 4\n",
      "optimization  0 5\n",
      "not opt\n",
      "optimization  0 6\n",
      "not opt\n",
      "optimization  0 7\n",
      "not opt\n",
      "optimization  0 8\n",
      "not opt\n",
      "optimization  0 9\n"
     ]
    },
    {
     "ename": "KeyboardInterrupt",
     "evalue": "",
     "output_type": "error",
     "traceback": [
      "\u001b[1;31m---------------------------------------------------------------------------\u001b[0m",
      "\u001b[1;31mKeyboardInterrupt\u001b[0m                         Traceback (most recent call last)",
      "Cell \u001b[1;32mIn[4], line 12\u001b[0m\n\u001b[0;32m      5\u001b[0m filename \u001b[38;5;241m=\u001b[39m \u001b[38;5;124m'\u001b[39m\u001b[38;5;124moptimization_data2.csv\u001b[39m\u001b[38;5;124m'\u001b[39m\n\u001b[0;32m     11\u001b[0m \u001b[38;5;28;01mfor\u001b[39;00m x \u001b[38;5;129;01min\u001b[39;00m systems:\n\u001b[1;32m---> 12\u001b[0m     \u001b[43mx\u001b[49m\u001b[38;5;241;43m.\u001b[39;49m\u001b[43mminimizePeak\u001b[49m\u001b[43m(\u001b[49m\u001b[43m)\u001b[49m\n\u001b[0;32m     13\u001b[0m     x\u001b[38;5;241m.\u001b[39mrunZeroNet()\n\u001b[0;32m     14\u001b[0m     \u001b[38;5;66;03m#batteries.append(x.optimal_results.battery_stpts)\u001b[39;00m\n\u001b[0;32m     15\u001b[0m     \u001b[38;5;66;03m#batteries_real.append(x.optimal_results_real.battery_stpts)\u001b[39;00m\n",
      "File \u001b[1;32mc:\\Users\\chitt\\workspace\\optimisation\\optimization_lib\\..\\optimization_lib\\full_optimisation.py:203\u001b[0m, in \u001b[0;36moptimalSystemDescription.minimizePeak\u001b[1;34m(self)\u001b[0m\n\u001b[0;32m    200\u001b[0m obj \u001b[38;5;241m=\u001b[39m cp\u001b[38;5;241m.\u001b[39mMinimize(\u001b[38;5;28msum\u001b[39m(absE))\n\u001b[0;32m    202\u001b[0m prob \u001b[38;5;241m=\u001b[39m cp\u001b[38;5;241m.\u001b[39mProblem(obj,\u001b[38;5;28mself\u001b[39m\u001b[38;5;241m.\u001b[39mconstraints)\n\u001b[1;32m--> 203\u001b[0m \u001b[43mprob\u001b[49m\u001b[38;5;241;43m.\u001b[39;49m\u001b[43msolve\u001b[49m\u001b[43m(\u001b[49m\u001b[43m)\u001b[49m\n\u001b[0;32m    205\u001b[0m \u001b[38;5;28;01mif\u001b[39;00m(prob\u001b[38;5;241m.\u001b[39mstatus \u001b[38;5;241m==\u001b[39m \u001b[38;5;124m'\u001b[39m\u001b[38;5;124moptimal\u001b[39m\u001b[38;5;124m'\u001b[39m):\n\u001b[0;32m    206\u001b[0m     \u001b[38;5;66;03m#print(prob.status)\u001b[39;00m\n\u001b[0;32m    207\u001b[0m     opt \u001b[38;5;241m=\u001b[39m \u001b[38;5;28;01mTrue\u001b[39;00m\n",
      "File \u001b[1;32m~\\AppData\\Local\\Packages\\PythonSoftwareFoundation.Python.3.12_qbz5n2kfra8p0\\LocalCache\\local-packages\\Python312\\site-packages\\cvxpy\\problems\\problem.py:503\u001b[0m, in \u001b[0;36mProblem.solve\u001b[1;34m(self, *args, **kwargs)\u001b[0m\n\u001b[0;32m    501\u001b[0m \u001b[38;5;28;01melse\u001b[39;00m:\n\u001b[0;32m    502\u001b[0m     solve_func \u001b[38;5;241m=\u001b[39m Problem\u001b[38;5;241m.\u001b[39m_solve\n\u001b[1;32m--> 503\u001b[0m \u001b[38;5;28;01mreturn\u001b[39;00m \u001b[43msolve_func\u001b[49m\u001b[43m(\u001b[49m\u001b[38;5;28;43mself\u001b[39;49m\u001b[43m,\u001b[49m\u001b[43m \u001b[49m\u001b[38;5;241;43m*\u001b[39;49m\u001b[43margs\u001b[49m\u001b[43m,\u001b[49m\u001b[43m \u001b[49m\u001b[38;5;241;43m*\u001b[39;49m\u001b[38;5;241;43m*\u001b[39;49m\u001b[43mkwargs\u001b[49m\u001b[43m)\u001b[49m\n",
      "File \u001b[1;32m~\\AppData\\Local\\Packages\\PythonSoftwareFoundation.Python.3.12_qbz5n2kfra8p0\\LocalCache\\local-packages\\Python312\\site-packages\\cvxpy\\problems\\problem.py:1072\u001b[0m, in \u001b[0;36mProblem._solve\u001b[1;34m(self, solver, warm_start, verbose, gp, qcp, requires_grad, enforce_dpp, ignore_dpp, canon_backend, **kwargs)\u001b[0m\n\u001b[0;32m   1069\u001b[0m         \u001b[38;5;28mself\u001b[39m\u001b[38;5;241m.\u001b[39munpack(chain\u001b[38;5;241m.\u001b[39mretrieve(soln))\n\u001b[0;32m   1070\u001b[0m         \u001b[38;5;28;01mreturn\u001b[39;00m \u001b[38;5;28mself\u001b[39m\u001b[38;5;241m.\u001b[39mvalue\n\u001b[1;32m-> 1072\u001b[0m data, solving_chain, inverse_data \u001b[38;5;241m=\u001b[39m \u001b[38;5;28;43mself\u001b[39;49m\u001b[38;5;241;43m.\u001b[39;49m\u001b[43mget_problem_data\u001b[49m\u001b[43m(\u001b[49m\n\u001b[0;32m   1073\u001b[0m \u001b[43m    \u001b[49m\u001b[43msolver\u001b[49m\u001b[43m,\u001b[49m\u001b[43m \u001b[49m\u001b[43mgp\u001b[49m\u001b[43m,\u001b[49m\u001b[43m \u001b[49m\u001b[43menforce_dpp\u001b[49m\u001b[43m,\u001b[49m\u001b[43m \u001b[49m\u001b[43mignore_dpp\u001b[49m\u001b[43m,\u001b[49m\u001b[43m \u001b[49m\u001b[43mverbose\u001b[49m\u001b[43m,\u001b[49m\u001b[43m \u001b[49m\u001b[43mcanon_backend\u001b[49m\u001b[43m,\u001b[49m\u001b[43m \u001b[49m\u001b[43mkwargs\u001b[49m\n\u001b[0;32m   1074\u001b[0m \u001b[43m\u001b[49m\u001b[43m)\u001b[49m\n\u001b[0;32m   1076\u001b[0m \u001b[38;5;28;01mif\u001b[39;00m verbose:\n\u001b[0;32m   1077\u001b[0m     \u001b[38;5;28mprint\u001b[39m(_NUM_SOLVER_STR)\n",
      "File \u001b[1;32m~\\AppData\\Local\\Packages\\PythonSoftwareFoundation.Python.3.12_qbz5n2kfra8p0\\LocalCache\\local-packages\\Python312\\site-packages\\cvxpy\\problems\\problem.py:696\u001b[0m, in \u001b[0;36mProblem.get_problem_data\u001b[1;34m(self, solver, gp, enforce_dpp, ignore_dpp, verbose, canon_backend, solver_opts)\u001b[0m\n\u001b[0;32m    693\u001b[0m     s\u001b[38;5;241m.\u001b[39mLOGGER\u001b[38;5;241m.\u001b[39minfo(\n\u001b[0;32m    694\u001b[0m              \u001b[38;5;124m'\u001b[39m\u001b[38;5;124mCompiling problem (target solver=\u001b[39m\u001b[38;5;132;01m%s\u001b[39;00m\u001b[38;5;124m).\u001b[39m\u001b[38;5;124m'\u001b[39m, solver_name)\n\u001b[0;32m    695\u001b[0m     s\u001b[38;5;241m.\u001b[39mLOGGER\u001b[38;5;241m.\u001b[39minfo(\u001b[38;5;124m'\u001b[39m\u001b[38;5;124mReduction chain: \u001b[39m\u001b[38;5;132;01m%s\u001b[39;00m\u001b[38;5;124m'\u001b[39m, reduction_chain_str)\n\u001b[1;32m--> 696\u001b[0m data, inverse_data \u001b[38;5;241m=\u001b[39m \u001b[43msolving_chain\u001b[49m\u001b[38;5;241;43m.\u001b[39;49m\u001b[43mapply\u001b[49m\u001b[43m(\u001b[49m\u001b[38;5;28;43mself\u001b[39;49m\u001b[43m,\u001b[49m\u001b[43m \u001b[49m\u001b[43mverbose\u001b[49m\u001b[43m)\u001b[49m\n\u001b[0;32m    697\u001b[0m safe_to_cache \u001b[38;5;241m=\u001b[39m (\n\u001b[0;32m    698\u001b[0m     \u001b[38;5;28misinstance\u001b[39m(data, \u001b[38;5;28mdict\u001b[39m)\n\u001b[0;32m    699\u001b[0m     \u001b[38;5;129;01mand\u001b[39;00m s\u001b[38;5;241m.\u001b[39mPARAM_PROB \u001b[38;5;129;01min\u001b[39;00m data\n\u001b[0;32m    700\u001b[0m     \u001b[38;5;129;01mand\u001b[39;00m \u001b[38;5;129;01mnot\u001b[39;00m \u001b[38;5;28many\u001b[39m(\u001b[38;5;28misinstance\u001b[39m(reduction, EvalParams)\n\u001b[0;32m    701\u001b[0m                 \u001b[38;5;28;01mfor\u001b[39;00m reduction \u001b[38;5;129;01min\u001b[39;00m solving_chain\u001b[38;5;241m.\u001b[39mreductions)\n\u001b[0;32m    702\u001b[0m )\n\u001b[0;32m    703\u001b[0m \u001b[38;5;28mself\u001b[39m\u001b[38;5;241m.\u001b[39m_compilation_time \u001b[38;5;241m=\u001b[39m time\u001b[38;5;241m.\u001b[39mtime() \u001b[38;5;241m-\u001b[39m start\n",
      "File \u001b[1;32m~\\AppData\\Local\\Packages\\PythonSoftwareFoundation.Python.3.12_qbz5n2kfra8p0\\LocalCache\\local-packages\\Python312\\site-packages\\cvxpy\\reductions\\chain.py:76\u001b[0m, in \u001b[0;36mChain.apply\u001b[1;34m(self, problem, verbose)\u001b[0m\n\u001b[0;32m     74\u001b[0m     \u001b[38;5;28;01mif\u001b[39;00m verbose:\n\u001b[0;32m     75\u001b[0m         s\u001b[38;5;241m.\u001b[39mLOGGER\u001b[38;5;241m.\u001b[39minfo(\u001b[38;5;124m'\u001b[39m\u001b[38;5;124mApplying reduction \u001b[39m\u001b[38;5;132;01m%s\u001b[39;00m\u001b[38;5;124m'\u001b[39m, \u001b[38;5;28mtype\u001b[39m(r)\u001b[38;5;241m.\u001b[39m\u001b[38;5;18m__name__\u001b[39m)\n\u001b[1;32m---> 76\u001b[0m     problem, inv \u001b[38;5;241m=\u001b[39m \u001b[43mr\u001b[49m\u001b[38;5;241;43m.\u001b[39;49m\u001b[43mapply\u001b[49m\u001b[43m(\u001b[49m\u001b[43mproblem\u001b[49m\u001b[43m)\u001b[49m\n\u001b[0;32m     77\u001b[0m     inverse_data\u001b[38;5;241m.\u001b[39mappend(inv)\n\u001b[0;32m     78\u001b[0m \u001b[38;5;28;01mreturn\u001b[39;00m problem, inverse_data\n",
      "File \u001b[1;32m~\\AppData\\Local\\Packages\\PythonSoftwareFoundation.Python.3.12_qbz5n2kfra8p0\\LocalCache\\local-packages\\Python312\\site-packages\\cvxpy\\reductions\\dcp2cone\\dcp2cone.py:63\u001b[0m, in \u001b[0;36mDcp2Cone.apply\u001b[1;34m(self, problem)\u001b[0m\n\u001b[0;32m     55\u001b[0m canon_objective, canon_constraints \u001b[38;5;241m=\u001b[39m \u001b[38;5;28mself\u001b[39m\u001b[38;5;241m.\u001b[39mcanonicalize_tree(\n\u001b[0;32m     56\u001b[0m     problem\u001b[38;5;241m.\u001b[39mobjective, \u001b[38;5;28;01mTrue\u001b[39;00m)\n\u001b[0;32m     58\u001b[0m \u001b[38;5;28;01mfor\u001b[39;00m constraint \u001b[38;5;129;01min\u001b[39;00m problem\u001b[38;5;241m.\u001b[39mconstraints:\n\u001b[0;32m     59\u001b[0m     \u001b[38;5;66;03m# canon_constr is the constraint rexpressed in terms of\u001b[39;00m\n\u001b[0;32m     60\u001b[0m     \u001b[38;5;66;03m# its canonicalized arguments, and aux_constr are the constraints\u001b[39;00m\n\u001b[0;32m     61\u001b[0m     \u001b[38;5;66;03m# generated while canonicalizing the arguments of the original\u001b[39;00m\n\u001b[0;32m     62\u001b[0m     \u001b[38;5;66;03m# constraint\u001b[39;00m\n\u001b[1;32m---> 63\u001b[0m     canon_constr, aux_constr \u001b[38;5;241m=\u001b[39m \u001b[38;5;28;43mself\u001b[39;49m\u001b[38;5;241;43m.\u001b[39;49m\u001b[43mcanonicalize_tree\u001b[49m\u001b[43m(\u001b[49m\n\u001b[0;32m     64\u001b[0m \u001b[43m        \u001b[49m\u001b[43mconstraint\u001b[49m\u001b[43m,\u001b[49m\u001b[43m \u001b[49m\u001b[38;5;28;43;01mFalse\u001b[39;49;00m\u001b[43m)\u001b[49m\n\u001b[0;32m     65\u001b[0m     canon_constraints \u001b[38;5;241m+\u001b[39m\u001b[38;5;241m=\u001b[39m aux_constr \u001b[38;5;241m+\u001b[39m [canon_constr]\n\u001b[0;32m     66\u001b[0m     inverse_data\u001b[38;5;241m.\u001b[39mcons_id_map\u001b[38;5;241m.\u001b[39mupdate({constraint\u001b[38;5;241m.\u001b[39mid: canon_constr\u001b[38;5;241m.\u001b[39mid})\n",
      "File \u001b[1;32m~\\AppData\\Local\\Packages\\PythonSoftwareFoundation.Python.3.12_qbz5n2kfra8p0\\LocalCache\\local-packages\\Python312\\site-packages\\cvxpy\\reductions\\dcp2cone\\dcp2cone.py:96\u001b[0m, in \u001b[0;36mDcp2Cone.canonicalize_tree\u001b[1;34m(self, expr, affine_above)\u001b[0m\n\u001b[0;32m     94\u001b[0m constrs \u001b[38;5;241m=\u001b[39m []\n\u001b[0;32m     95\u001b[0m \u001b[38;5;28;01mfor\u001b[39;00m arg \u001b[38;5;129;01min\u001b[39;00m expr\u001b[38;5;241m.\u001b[39margs:\n\u001b[1;32m---> 96\u001b[0m     canon_arg, c \u001b[38;5;241m=\u001b[39m \u001b[38;5;28;43mself\u001b[39;49m\u001b[38;5;241;43m.\u001b[39;49m\u001b[43mcanonicalize_tree\u001b[49m\u001b[43m(\u001b[49m\u001b[43marg\u001b[49m\u001b[43m,\u001b[49m\u001b[43m \u001b[49m\u001b[43maffine_atom\u001b[49m\u001b[43m \u001b[49m\u001b[38;5;129;43;01mand\u001b[39;49;00m\u001b[43m \u001b[49m\u001b[43maffine_above\u001b[49m\u001b[43m)\u001b[49m\n\u001b[0;32m     97\u001b[0m     canon_args \u001b[38;5;241m+\u001b[39m\u001b[38;5;241m=\u001b[39m [canon_arg]\n\u001b[0;32m     98\u001b[0m     constrs \u001b[38;5;241m+\u001b[39m\u001b[38;5;241m=\u001b[39m c\n",
      "File \u001b[1;32m~\\AppData\\Local\\Packages\\PythonSoftwareFoundation.Python.3.12_qbz5n2kfra8p0\\LocalCache\\local-packages\\Python312\\site-packages\\cvxpy\\reductions\\dcp2cone\\dcp2cone.py:99\u001b[0m, in \u001b[0;36mDcp2Cone.canonicalize_tree\u001b[1;34m(self, expr, affine_above)\u001b[0m\n\u001b[0;32m     97\u001b[0m         canon_args \u001b[38;5;241m+\u001b[39m\u001b[38;5;241m=\u001b[39m [canon_arg]\n\u001b[0;32m     98\u001b[0m         constrs \u001b[38;5;241m+\u001b[39m\u001b[38;5;241m=\u001b[39m c\n\u001b[1;32m---> 99\u001b[0m     canon_expr, c \u001b[38;5;241m=\u001b[39m \u001b[38;5;28;43mself\u001b[39;49m\u001b[38;5;241;43m.\u001b[39;49m\u001b[43mcanonicalize_expr\u001b[49m\u001b[43m(\u001b[49m\u001b[43mexpr\u001b[49m\u001b[43m,\u001b[49m\u001b[43m \u001b[49m\u001b[43mcanon_args\u001b[49m\u001b[43m,\u001b[49m\u001b[43m \u001b[49m\u001b[43maffine_above\u001b[49m\u001b[43m)\u001b[49m\n\u001b[0;32m    100\u001b[0m     constrs \u001b[38;5;241m+\u001b[39m\u001b[38;5;241m=\u001b[39m c\n\u001b[0;32m    101\u001b[0m \u001b[38;5;28;01mreturn\u001b[39;00m canon_expr, constrs\n",
      "File \u001b[1;32m~\\AppData\\Local\\Packages\\PythonSoftwareFoundation.Python.3.12_qbz5n2kfra8p0\\LocalCache\\local-packages\\Python312\\site-packages\\cvxpy\\reductions\\dcp2cone\\dcp2cone.py:131\u001b[0m, in \u001b[0;36mDcp2Cone.canonicalize_expr\u001b[1;34m(self, expr, args, affine_above)\u001b[0m\n\u001b[0;32m    128\u001b[0m \u001b[38;5;28;01mif\u001b[39;00m \u001b[38;5;28mtype\u001b[39m(expr) \u001b[38;5;129;01min\u001b[39;00m \u001b[38;5;28mself\u001b[39m\u001b[38;5;241m.\u001b[39mcone_canon_methods:\n\u001b[0;32m    129\u001b[0m     \u001b[38;5;28;01mreturn\u001b[39;00m \u001b[38;5;28mself\u001b[39m\u001b[38;5;241m.\u001b[39mcone_canon_methods[\u001b[38;5;28mtype\u001b[39m(expr)](expr, args)\n\u001b[1;32m--> 131\u001b[0m \u001b[38;5;28;01mreturn\u001b[39;00m \u001b[43mexpr\u001b[49m\u001b[38;5;241;43m.\u001b[39;49m\u001b[43mcopy\u001b[49m\u001b[43m(\u001b[49m\u001b[43margs\u001b[49m\u001b[43m)\u001b[49m, []\n",
      "File \u001b[1;32m~\\AppData\\Local\\Packages\\PythonSoftwareFoundation.Python.3.12_qbz5n2kfra8p0\\LocalCache\\local-packages\\Python312\\site-packages\\cvxpy\\atoms\\affine\\add_expr.py:102\u001b[0m, in \u001b[0;36mAddExpression.copy\u001b[1;34m(self, args, id_objects)\u001b[0m\n\u001b[0;32m    100\u001b[0m \u001b[38;5;66;03m# Takes advantage of _arg_groups if present for efficiency.\u001b[39;00m\n\u001b[0;32m    101\u001b[0m copy \u001b[38;5;241m=\u001b[39m \u001b[38;5;28mtype\u001b[39m(\u001b[38;5;28mself\u001b[39m)\u001b[38;5;241m.\u001b[39m\u001b[38;5;21m__new__\u001b[39m(\u001b[38;5;28mtype\u001b[39m(\u001b[38;5;28mself\u001b[39m))\n\u001b[1;32m--> 102\u001b[0m \u001b[43mcopy\u001b[49m\u001b[38;5;241;43m.\u001b[39;49m\u001b[38;5;21;43m__init__\u001b[39;49m\u001b[43m(\u001b[49m\u001b[43margs\u001b[49m\u001b[43m)\u001b[49m\n\u001b[0;32m    103\u001b[0m \u001b[38;5;28;01mreturn\u001b[39;00m copy\n",
      "File \u001b[1;32m~\\AppData\\Local\\Packages\\PythonSoftwareFoundation.Python.3.12_qbz5n2kfra8p0\\LocalCache\\local-packages\\Python312\\site-packages\\cvxpy\\atoms\\affine\\add_expr.py:34\u001b[0m, in \u001b[0;36mAddExpression.__init__\u001b[1;34m(self, arg_groups)\u001b[0m\n\u001b[0;32m     31\u001b[0m \u001b[38;5;28;01mdef\u001b[39;00m \u001b[38;5;21m__init__\u001b[39m(\u001b[38;5;28mself\u001b[39m, arg_groups) \u001b[38;5;241m-\u001b[39m\u001b[38;5;241m>\u001b[39m \u001b[38;5;28;01mNone\u001b[39;00m:\n\u001b[0;32m     32\u001b[0m     \u001b[38;5;66;03m# For efficiency group args as sums.\u001b[39;00m\n\u001b[0;32m     33\u001b[0m     \u001b[38;5;28mself\u001b[39m\u001b[38;5;241m.\u001b[39m_arg_groups \u001b[38;5;241m=\u001b[39m arg_groups\n\u001b[1;32m---> 34\u001b[0m     \u001b[38;5;28;43msuper\u001b[39;49m\u001b[43m(\u001b[49m\u001b[43mAddExpression\u001b[49m\u001b[43m,\u001b[49m\u001b[43m \u001b[49m\u001b[38;5;28;43mself\u001b[39;49m\u001b[43m)\u001b[49m\u001b[38;5;241;43m.\u001b[39;49m\u001b[38;5;21;43m__init__\u001b[39;49m\u001b[43m(\u001b[49m\u001b[38;5;241;43m*\u001b[39;49m\u001b[43marg_groups\u001b[49m\u001b[43m)\u001b[49m\n\u001b[0;32m     35\u001b[0m     \u001b[38;5;28mself\u001b[39m\u001b[38;5;241m.\u001b[39margs \u001b[38;5;241m=\u001b[39m []\n\u001b[0;32m     36\u001b[0m     \u001b[38;5;28;01mfor\u001b[39;00m group \u001b[38;5;129;01min\u001b[39;00m arg_groups:\n",
      "File \u001b[1;32m~\\AppData\\Local\\Packages\\PythonSoftwareFoundation.Python.3.12_qbz5n2kfra8p0\\LocalCache\\local-packages\\Python312\\site-packages\\cvxpy\\atoms\\atom.py:51\u001b[0m, in \u001b[0;36mAtom.__init__\u001b[1;34m(self, *args)\u001b[0m\n\u001b[0;32m     49\u001b[0m \u001b[38;5;28mself\u001b[39m\u001b[38;5;241m.\u001b[39margs \u001b[38;5;241m=\u001b[39m [Atom\u001b[38;5;241m.\u001b[39mcast_to_const(arg) \u001b[38;5;28;01mfor\u001b[39;00m arg \u001b[38;5;129;01min\u001b[39;00m args]\n\u001b[0;32m     50\u001b[0m \u001b[38;5;28mself\u001b[39m\u001b[38;5;241m.\u001b[39mvalidate_arguments()\n\u001b[1;32m---> 51\u001b[0m \u001b[38;5;28mself\u001b[39m\u001b[38;5;241m.\u001b[39m_shape \u001b[38;5;241m=\u001b[39m \u001b[38;5;28;43mself\u001b[39;49m\u001b[38;5;241;43m.\u001b[39;49m\u001b[43mshape_from_args\u001b[49m\u001b[43m(\u001b[49m\u001b[43m)\u001b[49m\n\u001b[0;32m     52\u001b[0m \u001b[38;5;28;01mif\u001b[39;00m \u001b[38;5;28mlen\u001b[39m(\u001b[38;5;28mself\u001b[39m\u001b[38;5;241m.\u001b[39m_shape) \u001b[38;5;241m>\u001b[39m \u001b[38;5;241m2\u001b[39m:\n\u001b[0;32m     53\u001b[0m     \u001b[38;5;28;01mraise\u001b[39;00m \u001b[38;5;167;01mValueError\u001b[39;00m(\u001b[38;5;124m\"\u001b[39m\u001b[38;5;124mAtoms must be at most 2D.\u001b[39m\u001b[38;5;124m\"\u001b[39m)\n",
      "File \u001b[1;32m~\\AppData\\Local\\Packages\\PythonSoftwareFoundation.Python.3.12_qbz5n2kfra8p0\\LocalCache\\local-packages\\Python312\\site-packages\\cvxpy\\atoms\\affine\\add_expr.py:42\u001b[0m, in \u001b[0;36mAddExpression.shape_from_args\u001b[1;34m(self)\u001b[0m\n\u001b[0;32m     39\u001b[0m \u001b[38;5;28;01mdef\u001b[39;00m \u001b[38;5;21mshape_from_args\u001b[39m(\u001b[38;5;28mself\u001b[39m) \u001b[38;5;241m-\u001b[39m\u001b[38;5;241m>\u001b[39m Tuple[\u001b[38;5;28mint\u001b[39m, \u001b[38;5;241m.\u001b[39m\u001b[38;5;241m.\u001b[39m\u001b[38;5;241m.\u001b[39m]:\n\u001b[0;32m     40\u001b[0m \u001b[38;5;250m    \u001b[39m\u001b[38;5;124;03m\"\"\"Returns the (row, col) shape of the expression.\u001b[39;00m\n\u001b[0;32m     41\u001b[0m \u001b[38;5;124;03m    \"\"\"\u001b[39;00m\n\u001b[1;32m---> 42\u001b[0m     \u001b[38;5;28;01mreturn\u001b[39;00m \u001b[43mu\u001b[49m\u001b[38;5;241;43m.\u001b[39;49m\u001b[43mshape\u001b[49m\u001b[38;5;241;43m.\u001b[39;49m\u001b[43msum_shapes\u001b[49m\u001b[43m(\u001b[49m\u001b[43m[\u001b[49m\u001b[43marg\u001b[49m\u001b[38;5;241;43m.\u001b[39;49m\u001b[43mshape\u001b[49m\u001b[43m \u001b[49m\u001b[38;5;28;43;01mfor\u001b[39;49;00m\u001b[43m \u001b[49m\u001b[43marg\u001b[49m\u001b[43m \u001b[49m\u001b[38;5;129;43;01min\u001b[39;49;00m\u001b[43m \u001b[49m\u001b[38;5;28;43mself\u001b[39;49m\u001b[38;5;241;43m.\u001b[39;49m\u001b[43margs\u001b[49m\u001b[43m]\u001b[49m\u001b[43m)\u001b[49m\n",
      "File \u001b[1;32m~\\AppData\\Local\\Packages\\PythonSoftwareFoundation.Python.3.12_qbz5n2kfra8p0\\LocalCache\\local-packages\\Python312\\site-packages\\cvxpy\\utilities\\shape.py:57\u001b[0m, in \u001b[0;36msum_shapes\u001b[1;34m(shapes)\u001b[0m\n\u001b[0;32m     55\u001b[0m shorter \u001b[38;5;241m=\u001b[39m shape \u001b[38;5;28;01mif\u001b[39;00m \u001b[38;5;28mlen\u001b[39m(shape) \u001b[38;5;241m<\u001b[39m \u001b[38;5;28mlen\u001b[39m(t) \u001b[38;5;28;01melse\u001b[39;00m t\n\u001b[0;32m     56\u001b[0m offset \u001b[38;5;241m=\u001b[39m \u001b[38;5;28mlen\u001b[39m(longer) \u001b[38;5;241m-\u001b[39m \u001b[38;5;28mlen\u001b[39m(shorter)\n\u001b[1;32m---> 57\u001b[0m prefix \u001b[38;5;241m=\u001b[39m \u001b[38;5;28;43mlist\u001b[39;49m\u001b[43m(\u001b[49m\u001b[43mlonger\u001b[49m\u001b[43m[\u001b[49m\u001b[43m:\u001b[49m\u001b[43moffset\u001b[49m\u001b[43m]\u001b[49m\u001b[43m)\u001b[49m\n\u001b[0;32m     58\u001b[0m suffix \u001b[38;5;241m=\u001b[39m []\n\u001b[0;32m     59\u001b[0m \u001b[38;5;28;01mfor\u001b[39;00m d1, d2 \u001b[38;5;129;01min\u001b[39;00m \u001b[38;5;28mzip\u001b[39m(\u001b[38;5;28mreversed\u001b[39m(longer[offset:]), \u001b[38;5;28mreversed\u001b[39m(shorter)):\n",
      "\u001b[1;31mKeyboardInterrupt\u001b[0m: "
     ]
    }
   ],
   "source": [
    "i=0\n",
    "\n",
    "\n",
    "import csv\n",
    "filename = 'optimization_data2.csv'\n",
    "\n",
    "\n",
    "\n",
    "\n",
    "\n",
    "for x in systems:\n",
    "    x.minimizePeak()\n",
    "    x.runZeroNet()\n",
    "    #batteries.append(x.optimal_results.battery_stpts)\n",
    "    #batteries_real.append(x.optimal_results_real.battery_stpts)\n",
    "    i=i+1\n",
    "    #print(\"optimizing \",i)\n",
    "    print(\"optimization \" , str(x.batt_power) , i)\n",
    "    data = x.solar + x.load + x.optimal_results.battery_stpts + [x.batt_power]\n",
    "    with open(filename, 'a') as csvfile:\n",
    "        # creating a csv writer object\n",
    "        csvwriter = csv.writer(csvfile)\n",
    "\n",
    "        # writing the fields\n",
    "        csvwriter.writerow(data)\n",
    " \n",
    "\n",
    "i=0\n",
    "for x in systems_test:\n",
    "    x.minimizePeak()\n",
    "    x.runZeroNet()\n",
    "\n",
    "    #batteries.append(x.optimal_results.battery_stpts)\n",
    "    #batteries_real.append(x.optimal_results_real.battery_stpts)\n",
    "    i=i+1\n",
    "    print(\"optimizing \",i,\"test\")"
   ]
  },
  {
   "cell_type": "code",
   "execution_count": null,
   "metadata": {},
   "outputs": [],
   "source": []
  }
 ],
 "metadata": {
  "kernelspec": {
   "display_name": "Python 3",
   "language": "python",
   "name": "python3"
  },
  "language_info": {
   "codemirror_mode": {
    "name": "ipython",
    "version": 3
   },
   "file_extension": ".py",
   "mimetype": "text/x-python",
   "name": "python",
   "nbconvert_exporter": "python",
   "pygments_lexer": "ipython3",
   "version": "3.12.7"
  }
 },
 "nbformat": 4,
 "nbformat_minor": 2
}
